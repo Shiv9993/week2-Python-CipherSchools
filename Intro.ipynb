{
  "cells": [
    {
      "cell_type": "code",
      "execution_count": null,
      "id": "198216f4-4b71-4081-bc57-ddb01242a9b4",
      "metadata": {
        "trusted": true
      },
      "outputs": [
        {
          "ename": "",
          "evalue": "",
          "output_type": "error",
          "traceback": [
            "\u001b[1;31mRunning cells with 'Python 3.10.6 64-bit' requires ipykernel package.\n",
            "\u001b[1;31mRun the following command to install 'ipykernel' into the Python environment. \n",
            "\u001b[1;31mCommand: 'c:/Users/rajesh/AppData/Local/Programs/Python/Python310/python.exe -m pip install ipykernel -U --user --force-reinstall'"
          ]
        }
      ],
      "source": [
        "show_loading()\n"
      ]
    },
    {
      "cell_type": "code",
      "execution_count": null,
      "id": "8be9636a-0665-41a7-a4d7-11f24dda970f",
      "metadata": {},
      "outputs": [],
      "source": [
        "x=6\n",
        "x='jatin'\n",
        "x=1.5\n",
        "x=print"
      ]
    },
    {
      "cell_type": "code",
      "execution_count": 2,
      "id": "9f0b7013-3129-405e-b659-287c59d9159f",
      "metadata": {
        "trusted": true
      },
      "outputs": [],
      "source": [
        "def show_loading():\n",
        "    for _ in range(3):\n",
        "        print(_)\n",
        "        print(\"loading...\")"
      ]
    },
    {
      "cell_type": "code",
      "execution_count": 4,
      "id": "2a12d123-32f3-4e6a-b061-71a8bafae031",
      "metadata": {
        "trusted": true
      },
      "outputs": [
        {
          "name": "stdout",
          "output_type": "stream",
          "text": [
            "12\n",
            "0\n",
            "loading...\n",
            "1\n",
            "loading...\n",
            "2\n",
            "loading...\n",
            "-2\n",
            "0\n",
            "loading...\n",
            "1\n",
            "loading...\n",
            "2\n",
            "loading...\n",
            "35\n",
            "0\n",
            "loading...\n",
            "1\n",
            "loading...\n",
            "2\n",
            "loading...\n"
          ]
        }
      ],
      "source": [
        "a=5\n",
        "b=7\n",
        "print(a+b)\n",
        "show_loading()\n",
        "\n",
        "print(a-b)\n",
        "show_loading()\n",
        "\n",
        "print(a*b)\n",
        "show_loading()\n"
      ]
    },
    {
      "cell_type": "code",
      "execution_count": null,
      "id": "de84b77c-e00f-49e8-b70b-373602ad6c25",
      "metadata": {},
      "outputs": [],
      "source": []
    },
    {
      "cell_type": "code",
      "execution_count": null,
      "id": "3cb7f793-9a81-416a-860a-65d6a0587bd5",
      "metadata": {},
      "outputs": [],
      "source": []
    },
    {
      "cell_type": "code",
      "execution_count": 7,
      "id": "3c90d329-feda-4d0c-893f-cec7e1562206",
      "metadata": {
        "trusted": true
      },
      "outputs": [],
      "source": [
        "def sheldon_knock(name):\n",
        "    for _ in range(3):\n",
        "        print(\"knock knock knock\", name)"
      ]
    },
    {
      "cell_type": "code",
      "execution_count": 8,
      "id": "093b4fca-9180-4547-92ce-a868298bea4f",
      "metadata": {
        "trusted": true
      },
      "outputs": [
        {
          "name": "stdout",
          "output_type": "stream",
          "text": [
            "knock knock knock leonard\n",
            "knock knock knock leonard\n",
            "knock knock knock leonard\n"
          ]
        }
      ],
      "source": [
        "sheldon_knock(\"leonard\")"
      ]
    },
    {
      "cell_type": "code",
      "execution_count": 11,
      "id": "265b22da-832f-414d-b8cc-3093d9cf0abb",
      "metadata": {
        "trusted": true
      },
      "outputs": [],
      "source": [
        "def sheldon_knock(name, times =3):\n",
        "    for _ in range(3):\n",
        "        print(\"knock knock knock\", name)"
      ]
    },
    {
      "cell_type": "code",
      "execution_count": 12,
      "id": "ccfe9ba8-f0b4-45dd-af45-ac8ee89bb2b5",
      "metadata": {
        "trusted": true
      },
      "outputs": [
        {
          "name": "stdout",
          "output_type": "stream",
          "text": [
            "knock knock knock penny\n",
            "knock knock knock penny\n",
            "knock knock knock penny\n"
          ]
        }
      ],
      "source": [
        "sheldon_knock(\"penny\",7)"
      ]
    },
    {
      "cell_type": "code",
      "execution_count": null,
      "id": "28f49beb-f5c0-4430-bd62-0478de7b2329",
      "metadata": {},
      "outputs": [],
      "source": []
    },
    {
      "cell_type": "code",
      "execution_count": null,
      "id": "61997c3a-9fd0-4a54-83f6-13feeaaa81c0",
      "metadata": {},
      "outputs": [],
      "source": [
        "def add(a, b):\n",
        "    return a+b\n"
      ]
    },
    {
      "cell_type": "code",
      "execution_count": null,
      "id": "1de36dca-34a7-425d-8edc-1caf2be3a8d9",
      "metadata": {},
      "outputs": [],
      "source": [
        "a = add(1,2)"
      ]
    },
    {
      "cell_type": "code",
      "execution_count": 13,
      "id": "c59ed174-d2f1-40bb-a00a-f78da86a800a",
      "metadata": {
        "trusted": true
      },
      "outputs": [
        {
          "name": "stdout",
          "output_type": "stream",
          "text": [
            "5\n"
          ]
        }
      ],
      "source": [
        "print(a)"
      ]
    },
    {
      "cell_type": "code",
      "execution_count": null,
      "id": "8f9bc07f-27e4-48fb-9890-9aaa473c763c",
      "metadata": {},
      "outputs": [],
      "source": []
    }
  ],
  "metadata": {
    "kernelspec": {
      "display_name": "Python 3.10.6 64-bit",
      "language": "python",
      "name": "python3"
    },
    "language_info": {
      "codemirror_mode": {
        "name": "python",
        "version": 3
      },
      "file_extension": ".py",
      "mimetype": "text/x-python",
      "name": "python",
      "nbconvert_exporter": "python",
      "pygments_lexer": "ipython3",
      "version": "3.10.6"
    },
    "vscode": {
      "interpreter": {
        "hash": "9da852bd58dc71e0b348930bed2ca2a7a5b85e4511ba176da4cedf833b9e9018"
      }
    }
  },
  "nbformat": 4,
  "nbformat_minor": 5
}
