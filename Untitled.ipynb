{
  "cells": [
    {
      "cell_type": "code",
      "execution_count": 3,
      "metadata": {
        "trusted": true
      },
      "outputs": [
        {
          "name": "stdout",
          "output_type": "stream",
          "text": [
            "a is 3 and b is  7 and c is  10\n",
            "a is 25 and b is  5 and c is  24\n",
            "a is 100 and b is  5 and c is  50\n"
          ]
        }
      ],
      "source": [
        "def func(a , b=5 , c=10):\n",
        "  print(\"a is\", a,'and b is ',b,'and c is ',c)\n",
        "func(3,7)\n",
        "func(25 ,c=24)\n",
        "func(c=50 ,a=100)"
      ]
    },
    {
      "cell_type": "code",
      "execution_count": 2,
      "metadata": {
        "trusted": true
      },
      "outputs": [
        {
          "name": "stdout",
          "output_type": "stream",
          "text": [
            "1,2,3,4,5,6\n"
          ]
        }
      ],
      "source": [
        "print(1,2,3,4,5,6,sep=\",\")"
      ]
    },
    {
      "cell_type": "code",
      "execution_count": 1,
      "metadata": {
        "trusted": true
      },
      "outputs": [
        {
          "name": "stdout",
          "output_type": "stream",
          "text": [
            "1\n",
            "2\n",
            "3\n"
          ]
        }
      ],
      "source": [
        "def func(a,b,c):\n",
        "  print(a)\n",
        "  print(b)\n",
        "  print(c)\n",
        "func(1,2,3)"
      ]
    },
    {
      "cell_type": "code",
      "execution_count": 4,
      "metadata": {
        "trusted": true
      },
      "outputs": [
        {
          "name": "stdout",
          "output_type": "stream",
          "text": [
            "a is 1 and b is  2 and c is  3\n"
          ]
        }
      ],
      "source": [
        "func(b=2,c=3,a=1)"
      ]
    },
    {
      "cell_type": "code",
      "execution_count": 13,
      "metadata": {
        "trusted": true
      },
      "outputs": [],
      "source": [
        "def func():\n",
        "  print(\"hello\")"
      ]
    },
    {
      "cell_type": "code",
      "execution_count": 14,
      "metadata": {
        "trusted": true
      },
      "outputs": [],
      "source": [
        "def func(a):\n",
        "  print(a)"
      ]
    },
    {
      "cell_type": "code",
      "execution_count": 15,
      "metadata": {
        "trusted": true
      },
      "outputs": [
        {
          "name": "stdout",
          "output_type": "stream",
          "text": [
            "hello world !\n"
          ]
        }
      ],
      "source": [
        "def hello():\n",
        "  print(\"hello world !\")\n",
        "a=1\n",
        "a=hello\n",
        "a()"
      ]
    },
    {
      "cell_type": "code",
      "execution_count": 16,
      "metadata": {
        "trusted": true
      },
      "outputs": [
        {
          "data": {
            "text/plain": [
              "function"
            ]
          },
          "execution_count": 16,
          "metadata": {},
          "output_type": "execute_result"
        }
      ],
      "source": [
        "type(hello)\n",
        "     "
      ]
    },
    {
      "cell_type": "code",
      "execution_count": 12,
      "metadata": {
        "trusted": true
      },
      "outputs": [
        {
          "name": "stdout",
          "output_type": "stream",
          "text": [
            "2\n"
          ]
        }
      ],
      "source": [
        "hello =2\n",
        "print(hello)"
      ]
    },
    {
      "cell_type": "code",
      "execution_count": 11,
      "metadata": {
        "trusted": true
      },
      "outputs": [
        {
          "name": "stdout",
          "output_type": "stream",
          "text": [
            "hello world !\n"
          ]
        },
        {
          "data": {
            "text/plain": [
              "1"
            ]
          },
          "execution_count": 11,
          "metadata": {},
          "output_type": "execute_result"
        }
      ],
      "source": [
        "def hello():\n",
        "  print(\"hello world !\")\n",
        "  return 1\n",
        "hello()"
      ]
    },
    {
      "cell_type": "code",
      "execution_count": 8,
      "metadata": {
        "trusted": true
      },
      "outputs": [
        {
          "ename": "<class 'SyntaxError'>",
          "evalue": "non-default argument follows default argument (<ipython-input-8-03313feb1d0a>, line 1)",
          "output_type": "error",
          "traceback": [
            "\u001b[0;36m  Cell \u001b[0;32mIn[8], line 1\u001b[0;36m\u001b[0m\n\u001b[0;31m    def function(a,b=10 ,c):\u001b[0m\n\u001b[0m                         ^\u001b[0m\n\u001b[0;31mSyntaxError\u001b[0m\u001b[0;31m:\u001b[0m non-default argument follows default argument\n"
          ]
        }
      ],
      "source": [
        "def func(a,b=10 ,c):\n",
        "  print(a,b,c)"
      ]
    },
    {
      "cell_type": "code",
      "execution_count": 10,
      "metadata": {
        "trusted": true
      },
      "outputs": [
        {
          "name": "stdout",
          "output_type": "stream",
          "text": [
            "1 2 3 4 5 6\n"
          ]
        }
      ],
      "source": [
        "print(1,2,3,4,5,6)\n",
        "     "
      ]
    },
    {
      "cell_type": "code",
      "execution_count": null,
      "metadata": {},
      "outputs": [],
      "source": [
        "# Arguments in other language\n",
        "\n",
        "# Required arguments 'func(a)'\n",
        "#  Default argument 'func(b=1)'\n",
        "\n",
        "# Argument in python\n",
        "\n",
        "# Required arguments\n",
        "# Default arguments\n",
        "# Optional positional only arguments\n",
        "# Required keyworded only argumentrd\n",
        "# Default keyworded only arguments\n",
        "# Optional keyworded only arguments\n",
        "     "
      ]
    },
    {
      "cell_type": "code",
      "execution_count": 9,
      "metadata": {
        "trusted": true
      },
      "outputs": [
        {
          "name": "stdout",
          "output_type": "stream",
          "text": [
            "1 2\n"
          ]
        }
      ],
      "source": [
        "def func(a,b):\n",
        "  print(a,b)\n",
        "func(1,2)"
      ]
    },
    {
      "cell_type": "code",
      "execution_count": 17,
      "metadata": {
        "trusted": true
      },
      "outputs": [
        {
          "name": "stdout",
          "output_type": "stream",
          "text": [
            "1 2\n",
            "1 2\n",
            "3 4\n"
          ]
        }
      ],
      "source": [
        "def func(a=1 , b=2):\n",
        "  print(a,b)\n",
        "func()\n",
        "func(1)\n",
        "func(3,4)"
      ]
    },
    {
      "cell_type": "code",
      "execution_count": 18,
      "metadata": {
        "trusted": true
      },
      "outputs": [
        {
          "name": "stdout",
          "output_type": "stream",
          "text": [
            "(1, 2, 3, 4)\n"
          ]
        }
      ],
      "source": [
        "def func(*a):\n",
        "  print(a)\n",
        "func(1,2,3,4)"
      ]
    },
    {
      "cell_type": "code",
      "execution_count": 19,
      "metadata": {
        "trusted": true
      },
      "outputs": [
        {
          "name": "stdout",
          "output_type": "stream",
          "text": [
            "1\n",
            "2\n",
            "(3, 4, 'jatin ', 8)\n"
          ]
        }
      ],
      "source": [
        "def func(a,b, *c):\n",
        "  print(a)\n",
        "  print(b)\n",
        "  print(c)\n",
        "func(1,2,3,4,\"jatin \",8)"
      ]
    },
    {
      "cell_type": "code",
      "execution_count": 20,
      "metadata": {
        "trusted": true
      },
      "outputs": [
        {
          "name": "stdout",
          "output_type": "stream",
          "text": [
            "1\n",
            "2\n",
            "(3, 4, 5, 6)\n",
            "some\n",
            "PJ\n"
          ]
        }
      ],
      "source": [
        "def func(a,b,*c,d,e=\"PJ\"):\n",
        "  print(a)\n",
        "  print(b)\n",
        "  print(c)\n",
        "  print(d)\n",
        "  print(e)\n",
        "func(1,2,3,4,5,6,d=\"some\")\n"
      ]
    },
    {
      "cell_type": "code",
      "execution_count": 21,
      "metadata": {
        "trusted": true
      },
      "outputs": [
        {
          "name": "stdout",
          "output_type": "stream",
          "text": [
            "1\n",
            "2\n",
            "(3, 4, 5, 6)\n",
            "some\n",
            "asdf\n"
          ]
        }
      ],
      "source": [
        "def func(a,b,*c,d,e=\"LP3\"):\n",
        "  print(a)\n",
        "  print(b)\n",
        "  print(c)\n",
        "  print(d)\n",
        "  print(e)\n",
        "func(1,2,3,4,5,6,d=\"some\",e=\"asdf\")"
      ]
    },
    {
      "cell_type": "code",
      "execution_count": 22,
      "metadata": {
        "trusted": true
      },
      "outputs": [
        {
          "name": "stdout",
          "output_type": "stream",
          "text": [
            "{'name': 'keratin'}\n"
          ]
        }
      ],
      "source": [
        "def func(**k):\n",
        "  print(k)\n",
        "func(name=\"keratin\")"
      ]
    },
    {
      "cell_type": "code",
      "execution_count": 25,
      "metadata": {
        "trusted": true
      },
      "outputs": [],
      "source": [
        "def func(a,b=1,*c,d,e=\"\",**k):\n",
        "  print(k)"
      ]
    },
    {
      "cell_type": "code",
      "execution_count": 27,
      "metadata": {
        "trusted": true
      },
      "outputs": [
        {
          "ename": "<class 'NameError'>",
          "evalue": "name 'd' is not defined",
          "output_type": "error",
          "traceback": [
            "\u001b[0;31m---------------------------------------------------------------------------\u001b[0m",
            "\u001b[0;31mNameError\u001b[0m                                 Traceback (most recent call last)",
            "Cell \u001b[0;32mIn[27], line 3\u001b[0m\n\u001b[1;32m      1\u001b[0m \u001b[38;5;66;03m# Anonymous function or lambda function\u001b[39;00m\n\u001b[1;32m      2\u001b[0m \u001b[38;5;28;01mlambda\u001b[39;00m a,b: a\u001b[38;5;241m+\u001b[39mb\n\u001b[0;32m----> 3\u001b[0m \u001b[43md\u001b[49m(\u001b[38;5;241m2\u001b[39m,\u001b[38;5;241m6\u001b[39m)\n",
            "\u001b[0;31mNameError\u001b[0m: name 'd' is not defined"
          ]
        }
      ],
      "source": [
        "# Anonymous function or lambda function\n",
        "lambda a,b: a+b\n",
        "d(2,6)"
      ]
    },
    {
      "cell_type": "code",
      "execution_count": 28,
      "metadata": {
        "trusted": true
      },
      "outputs": [
        {
          "data": {
            "text/plain": [
              "<function __main__.<lambda>(a, b)>"
            ]
          },
          "execution_count": 28,
          "metadata": {},
          "output_type": "execute_result"
        }
      ],
      "source": [
        "lambda a,b: a+b"
      ]
    },
    {
      "cell_type": "code",
      "execution_count": 29,
      "metadata": {
        "trusted": true
      },
      "outputs": [
        {
          "data": {
            "text/plain": [
              "[0, 1, 4, 5, 7, 8]"
            ]
          },
          "execution_count": 29,
          "metadata": {},
          "output_type": "execute_result"
        }
      ],
      "source": [
        "sorted([4,8,1,0,7,5])"
      ]
    },
    {
      "cell_type": "code",
      "execution_count": 30,
      "metadata": {
        "trusted": true
      },
      "outputs": [
        {
          "name": "stdout",
          "output_type": "stream",
          "text": [
            "3\n",
            "None\n"
          ]
        }
      ],
      "source": [
        "a=1\n",
        "b=2\n",
        "c=print(a+b)\n",
        "print(c)"
      ]
    },
    {
      "cell_type": "code",
      "execution_count": 31,
      "metadata": {
        "trusted": true
      },
      "outputs": [
        {
          "name": "stdout",
          "output_type": "stream",
          "text": [
            "hello\n"
          ]
        }
      ],
      "source": [
        "def func(a):\n",
        "  a()\n",
        "func(a=lambda:print(\"hello\"))"
      ]
    },
    {
      "cell_type": "code",
      "execution_count": null,
      "metadata": {},
      "outputs": [],
      "source": []
    },
    {
      "cell_type": "code",
      "execution_count": null,
      "metadata": {},
      "outputs": [],
      "source": []
    },
    {
      "cell_type": "code",
      "execution_count": null,
      "metadata": {},
      "outputs": [],
      "source": []
    }
  ],
  "metadata": {
    "kernelspec": {
      "display_name": "Python 3.10.6 64-bit",
      "language": "python",
      "name": "python3"
    },
    "language_info": {
      "codemirror_mode": {
        "name": "python",
        "version": 3
      },
      "file_extension": ".py",
      "mimetype": "text/x-python",
      "name": "python",
      "nbconvert_exporter": "python",
      "pygments_lexer": "ipython3",
      "version": "3.10.6"
    },
    "vscode": {
      "interpreter": {
        "hash": "9da852bd58dc71e0b348930bed2ca2a7a5b85e4511ba176da4cedf833b9e9018"
      }
    }
  },
  "nbformat": 4,
  "nbformat_minor": 4
}
