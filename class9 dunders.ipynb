{
  "metadata": {
    "language_info": {
      "codemirror_mode": {
        "name": "python",
        "version": 3
      },
      "file_extension": ".py",
      "mimetype": "text/x-python",
      "name": "python",
      "nbconvert_exporter": "python",
      "pygments_lexer": "ipython3",
      "version": "3.8"
    },
    "kernelspec": {
      "name": "python",
      "display_name": "Python (Pyodide)",
      "language": "python"
    }
  },
  "nbformat_minor": 4,
  "nbformat": 4,
  "cells": [
    {
      "cell_type": "code",
      "source": "# Dunders(magic methods)(event methods)\n#____\nclass Person:\n  def __init__(self,name):\n    self.name=name\n  def say_hi(self):\n      print('hello, my name is',self.name)\nP=Person('QWERTY')\nP.say_hi()",
      "metadata": {
        "trusted": true
      },
      "execution_count": null,
      "outputs": []
    },
    {
      "cell_type": "code",
      "source": "class A:\n  def __init__(self):\n    print(self)\n    print(\"initialized\")\n  def __del__(self):\n    print(self)\n    print(\"I am dying\")\na=A()",
      "metadata": {
        "trusted": true
      },
      "execution_count": null,
      "outputs": []
    },
    {
      "cell_type": "code",
      "source": "a=1\nprint(type(a))\na+5\na.__add__(5)",
      "metadata": {
        "trusted": true
      },
      "execution_count": null,
      "outputs": []
    },
    {
      "cell_type": "code",
      "source": "\"QWERT\"*2",
      "metadata": {
        "trusted": true
      },
      "execution_count": null,
      "outputs": []
    },
    {
      "cell_type": "code",
      "source": "\"QWERTYUI\".__mul__(2)",
      "metadata": {
        "trusted": true
      },
      "execution_count": null,
      "outputs": []
    },
    {
      "cell_type": "code",
      "source": "class A:\n  a=1\n  b=2\n\n  def __add__(self,x):\n    return self.a+self.b+x\na=A()\na+3",
      "metadata": {},
      "execution_count": null,
      "outputs": []
    }
  ]
}