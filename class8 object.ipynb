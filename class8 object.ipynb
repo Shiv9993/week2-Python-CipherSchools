{
  "metadata": {
    "language_info": {
      "codemirror_mode": {
        "name": "python",
        "version": 3
      },
      "file_extension": ".py",
      "mimetype": "text/x-python",
      "name": "python",
      "nbconvert_exporter": "python",
      "pygments_lexer": "ipython3",
      "version": "3.8"
    },
    "kernelspec": {
      "name": "python",
      "display_name": "Python (Pyodide)",
      "language": "python"
    }
  },
  "nbformat_minor": 4,
  "nbformat": 4,
  "cells": [
    {
      "cell_type": "code",
      "source": " #object orientated programming language\n#Abstraction\n#Encapsulation\n#inheitence\n#polymorphism\n#Abstraction = need to know basis\nstudent1 = {\n    \"name\":\"QWRTY\",\n    \"marks\": 50\n}\nstudent2 = {\n    \"name\": \"LPU2\",\n    \"marks\": 100\n}\nprint()",
      "metadata": {
        "trusted": true
      },
      "execution_count": null,
      "outputs": []
    },
    {
      "cell_type": "code",
      "source": "#A minimal example of class\n#python object can have multiple attributes\n\n#-collable(e.g. functions and classes)\n#-iterable(e.g. list,string and generator)\n#-contextable(e.g. files)\na()",
      "metadata": {
        "trusted": true
      },
      "execution_count": null,
      "outputs": []
    },
    {
      "cell_type": "code",
      "source": "class person:\n  pass\n\np = person()\nprint(p)",
      "metadata": {
        "trusted": true
      },
      "execution_count": null,
      "outputs": []
    },
    {
      "cell_type": "code",
      "source": "hex(id(p))",
      "metadata": {
        "trusted": true
      },
      "execution_count": null,
      "outputs": []
    },
    {
      "cell_type": "code",
      "source": "class person:\n  name=\"QWERT\"\n  def say_hi(self):\n    self.name=\"LPU\"\n    print(\"Hello,how are you\"+self.name +\"2\")\n\np=person()\n\np.say_hi\nperson.say_hi(p)",
      "metadata": {
        "trusted": true
      },
      "execution_count": null,
      "outputs": []
    },
    {
      "cell_type": "code",
      "source": "class person:\n  name=\"QWERTY\"\n\n  def say_hi(this):\n    print(f\"Hello Everyone : I am {this.name}\" )\n\np=person()\n\np.say_hi #method cell\nperson.say_hi(p) # function call",
      "metadata": {},
      "execution_count": null,
      "outputs": []
    }
  ]
}