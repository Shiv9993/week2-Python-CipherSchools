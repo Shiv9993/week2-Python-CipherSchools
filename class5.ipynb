{
  "metadata": {
    "language_info": {
      "codemirror_mode": {
        "name": "python",
        "version": 3
      },
      "file_extension": ".py",
      "mimetype": "text/x-python",
      "name": "python",
      "nbconvert_exporter": "python",
      "pygments_lexer": "ipython3",
      "version": "3.8"
    },
    "kernelspec": {
      "name": "python",
      "display_name": "Python (Pyodide)",
      "language": "python"
    }
  },
  "nbformat_minor": 4,
  "nbformat": 4,
  "cells": [
    {
      "cell_type": "code",
      "source": "a=[1,2,3]\na[0]=100\na[2]=200\na",
      "metadata": {
        "trusted": true
      },
      "execution_count": 1,
      "outputs": [
        {
          "execution_count": 1,
          "output_type": "execute_result",
          "data": {
            "text/plain": "[100, 2, 200]"
          },
          "metadata": {}
        }
      ]
    },
    {
      "cell_type": "code",
      "source": "a=(1,2,3,4,5,6)\ntype(a)",
      "metadata": {
        "trusted": true
      },
      "execution_count": 2,
      "outputs": [
        {
          "execution_count": 2,
          "output_type": "execute_result",
          "data": {
            "text/plain": "tuple"
          },
          "metadata": {}
        }
      ]
    },
    {
      "cell_type": "code",
      "source": "def func(*args):\n  print(type(args))\nfunc(1,2,3)\n\n\n     \n\n\na=5\nb=9\na,b=b,a\nc=a,b\ntype(c)\n",
      "metadata": {
        "trusted": true
      },
      "execution_count": 3,
      "outputs": [
        {
          "name": "stdout",
          "text": "<class 'tuple'>\n",
          "output_type": "stream"
        },
        {
          "execution_count": 3,
          "output_type": "execute_result",
          "data": {
            "text/plain": "tuple"
          },
          "metadata": {}
        }
      ]
    },
    {
      "cell_type": "code",
      "source": "def add_sum(a,b):\n  s=a+b\n  d=a-b\n  return s,d\nc=add_sum(10,5)\nprint(type(c))\nprint(c)\ns,d=add_sum(10,5)\nprint(s,d)",
      "metadata": {
        "trusted": true
      },
      "execution_count": 4,
      "outputs": [
        {
          "name": "stdout",
          "text": "<class 'tuple'>\n(15, 5)\n15 5\n",
          "output_type": "stream"
        }
      ]
    },
    {
      "cell_type": "code",
      "source": "a=1,2,3,4\ntype(a)",
      "metadata": {
        "trusted": true
      },
      "execution_count": 5,
      "outputs": [
        {
          "execution_count": 5,
          "output_type": "execute_result",
          "data": {
            "text/plain": "tuple"
          },
          "metadata": {}
        }
      ]
    },
    {
      "cell_type": "code",
      "source": "#@title List to tuple and tuple to list\na=(1,2,3,4)\nlist(a)",
      "metadata": {
        "trusted": true
      },
      "execution_count": 6,
      "outputs": [
        {
          "execution_count": 6,
          "output_type": "execute_result",
          "data": {
            "text/plain": "[1, 2, 3, 4]"
          },
          "metadata": {}
        }
      ]
    },
    {
      "cell_type": "code",
      "source": "list(range(5))",
      "metadata": {
        "trusted": true
      },
      "execution_count": 7,
      "outputs": [
        {
          "execution_count": 7,
          "output_type": "execute_result",
          "data": {
            "text/plain": "[0, 1, 2, 3, 4]"
          },
          "metadata": {}
        }
      ]
    },
    {
      "cell_type": "code",
      "source": "tuple(range(5))",
      "metadata": {
        "trusted": true
      },
      "execution_count": 8,
      "outputs": [
        {
          "execution_count": 8,
          "output_type": "execute_result",
          "data": {
            "text/plain": "(0, 1, 2, 3, 4)"
          },
          "metadata": {}
        }
      ]
    },
    {
      "cell_type": "code",
      "source": "#@title Return multiple values from functions(The returned thing is a tuple!)\n\n\n     \n\na=(1,2,3,4,5,6)\na=[1,2,3,4]\na.append(4)\na.append(3)\nprint(a)",
      "metadata": {
        "trusted": true
      },
      "execution_count": 9,
      "outputs": [
        {
          "name": "stdout",
          "text": "[1, 2, 3, 4, 4, 3]\n",
          "output_type": "stream"
        }
      ]
    },
    {
      "cell_type": "code",
      "source": "#@title Dictionary\n'''py [1,2,3,4] here we cannot change index number a[0]'''\n'''a=dict()\na[\"name\"]\na[1]\na[(1,2)]'''\n\n\n     \n\na={\n    \"name\":\"QWERTY\",\n    1:\"something\",\n   (1,2):\"tuple key what?\"\n}\na['name']\n",
      "metadata": {
        "trusted": true
      },
      "execution_count": 10,
      "outputs": [
        {
          "execution_count": 10,
          "output_type": "execute_result",
          "data": {
            "text/plain": "'QWERTY'"
          },
          "metadata": {}
        }
      ]
    },
    {
      "cell_type": "code",
      "source": "a[1]\n",
      "metadata": {
        "trusted": true
      },
      "execution_count": 11,
      "outputs": [
        {
          "execution_count": 11,
          "output_type": "execute_result",
          "data": {
            "text/plain": "'something'"
          },
          "metadata": {}
        }
      ]
    },
    {
      "cell_type": "code",
      "source": "a[(1,2)]",
      "metadata": {
        "trusted": true
      },
      "execution_count": 12,
      "outputs": [
        {
          "execution_count": 12,
          "output_type": "execute_result",
          "data": {
            "text/plain": "'tuple key what?'"
          },
          "metadata": {}
        }
      ]
    },
    {
      "cell_type": "code",
      "source": "#@title Some impotant dict method\n# . get()\n# . items()\n# . keys()\n# . values()\n# . clear()\n\n\n     \n\nc={\n    \"n\" :\"LPUINAS\"\n}\nc[\"n\"]=\"CIPHERS\"\nprint(c)",
      "metadata": {
        "trusted": true
      },
      "execution_count": 13,
      "outputs": [
        {
          "name": "stdout",
          "text": "{'n': 'CIPHERS'}\n",
          "output_type": "stream"
        }
      ]
    },
    {
      "cell_type": "code",
      "source": "d={\n     \"n\":\"QWERTY\",\n     \"Company\":\"CipherSchools\",\n     \"College\":\"IPU\"\n }\nd['College']",
      "metadata": {
        "trusted": true
      },
      "execution_count": 14,
      "outputs": [
        {
          "execution_count": 14,
          "output_type": "execute_result",
          "data": {
            "text/plain": "'IPU'"
          },
          "metadata": {}
        }
      ]
    },
    {
      "cell_type": "code",
      "source": "d[\"Company\"]",
      "metadata": {
        "trusted": true
      },
      "execution_count": 17,
      "outputs": [
        {
          "execution_count": 17,
          "output_type": "execute_result",
          "data": {
            "text/plain": "'CipherSchools'"
          },
          "metadata": {}
        }
      ]
    },
    {
      "cell_type": "code",
      "source": "key=\"marks\"\nif key in d:\n  print(d[key])\nelse:\n  print(\"key doesn't exist\")\n",
      "metadata": {
        "trusted": true
      },
      "execution_count": 20,
      "outputs": [
        {
          "name": "stdout",
          "text": "key doesn't exist\n",
          "output_type": "stream"
        }
      ]
    },
    {
      "cell_type": "code",
      "source": "key=\"marks\"\nprint(a.get(key))",
      "metadata": {
        "trusted": true
      },
      "execution_count": 21,
      "outputs": [
        {
          "name": "stdout",
          "text": "None\n",
          "output_type": "stream"
        }
      ]
    },
    {
      "cell_type": "code",
      "source": "key=\"marks\"\nprint(a.get(key,\"key doesn't exist\"))\n",
      "metadata": {
        "trusted": true
      },
      "execution_count": 22,
      "outputs": [
        {
          "name": "stdout",
          "text": "key doesn't exist\n",
          "output_type": "stream"
        }
      ]
    },
    {
      "cell_type": "code",
      "source": "key=\"n\"\nprint(a.get(key,\"key doesn't exist\"))",
      "metadata": {
        "trusted": true
      },
      "execution_count": 23,
      "outputs": [
        {
          "name": "stdout",
          "text": "key doesn't exist\n",
          "output_type": "stream"
        }
      ]
    },
    {
      "cell_type": "code",
      "source": "d.keys()",
      "metadata": {
        "trusted": true
      },
      "execution_count": 24,
      "outputs": [
        {
          "execution_count": 24,
          "output_type": "execute_result",
          "data": {
            "text/plain": "dict_keys(['n', 'Company', 'College'])"
          },
          "metadata": {}
        }
      ]
    },
    {
      "cell_type": "code",
      "source": "d.values()",
      "metadata": {
        "trusted": true
      },
      "execution_count": 25,
      "outputs": [
        {
          "execution_count": 25,
          "output_type": "execute_result",
          "data": {
            "text/plain": "dict_values(['QWERTY', 'CipherSchools', 'IPU'])"
          },
          "metadata": {}
        }
      ]
    },
    {
      "cell_type": "code",
      "source": "for x in d.items():\n  print(x)",
      "metadata": {
        "trusted": true
      },
      "execution_count": 26,
      "outputs": [
        {
          "name": "stdout",
          "text": "('n', 'QWERTY')\n('Company', 'CipherSchools')\n('College', 'IPU')\n",
          "output_type": "stream"
        }
      ]
    },
    {
      "cell_type": "code",
      "source": "for x,value in d.items():\n  print(x,\"->\",value)",
      "metadata": {
        "trusted": true
      },
      "execution_count": 27,
      "outputs": [
        {
          "name": "stdout",
          "text": "n -> QWERTY\nCompany -> CipherSchools\nCollege -> IPU\n",
          "output_type": "stream"
        }
      ]
    },
    {
      "cell_type": "code",
      "source": "d",
      "metadata": {
        "trusted": true
      },
      "execution_count": 28,
      "outputs": [
        {
          "execution_count": 28,
          "output_type": "execute_result",
          "data": {
            "text/plain": "{'n': 'QWERTY', 'Company': 'CipherSchools', 'College': 'IPU'}"
          },
          "metadata": {}
        }
      ]
    },
    {
      "cell_type": "code",
      "source": "\"n\" in d",
      "metadata": {
        "trusted": true
      },
      "execution_count": 29,
      "outputs": [
        {
          "execution_count": 29,
          "output_type": "execute_result",
          "data": {
            "text/plain": "True"
          },
          "metadata": {}
        }
      ]
    },
    {
      "cell_type": "code",
      "source": "for x in d:\n  print(x)",
      "metadata": {
        "trusted": true
      },
      "execution_count": 30,
      "outputs": [
        {
          "name": "stdout",
          "text": "n\nCompany\nCollege\n",
          "output_type": "stream"
        }
      ]
    },
    {
      "cell_type": "code",
      "source": "list(d)",
      "metadata": {
        "trusted": true
      },
      "execution_count": 31,
      "outputs": [
        {
          "execution_count": 31,
          "output_type": "execute_result",
          "data": {
            "text/plain": "['n', 'Company', 'College']"
          },
          "metadata": {}
        }
      ]
    },
    {
      "cell_type": "code",
      "source": "# Challenge\n# Write a simple program which inputs and store the data about university students as a list of dictionaries. your final record structure should look like this:\n# [\n#     {\n#         'roll-no':011,\n#      'name':'Pj'\n#      'branch':'cse'\n#     }\n#     {\n#         'roll-no':022,\n#      'name':'Assmna'\n#      'branch':'SE'\n#     }\n#     {\n#         'roll-no':852,\n#      'name':'Ashun'\n#      'branch':'IT'\n#     }\n# ]\n\n\n     \n\n",
      "metadata": {
        "trusted": true
      },
      "execution_count": 33,
      "outputs": []
    },
    {
      "cell_type": "code",
      "source": "students = []  # create an empty list to store student records\n\nnum_students = int(input(\"Enter the number of students: \"))\n\n# input and store student records\nfor i in range(num_students):\n    # create an empty dictionary to store student information\n    student = {}\n     # input and store student information\n    student['roll-no'] = input(\"Enter student roll-no.: \")\n    student['name'] = input(\"Enter student name: \")\n    student['branch'] = input(\"Enter student branch: \")\n    \n    # append student dictionary to the list of students\n    students.append(student)\n    \n# print student records\nfor student in students:\n    print(f\"roll-no: {student['roll-no']}\")\n    print(f\"name: {student['name']}\")\n    print(f\"branch: {student['branch']}\")",
      "metadata": {},
      "execution_count": null,
      "outputs": []
    },
    {
      "cell_type": "code",
      "source": "",
      "metadata": {},
      "execution_count": null,
      "outputs": []
    },
    {
      "cell_type": "code",
      "source": "",
      "metadata": {},
      "execution_count": null,
      "outputs": []
    }
  ]
}